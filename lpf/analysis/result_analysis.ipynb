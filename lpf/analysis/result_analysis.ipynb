{
 "cells": [
  {
   "cell_type": "code",
   "execution_count": null,
   "metadata": {},
   "outputs": [],
   "source": [
    "import numpy as np\n",
    "import matplotlib.pyplot as plt\n",
    "import pandas as pd"
   ]
  },
  {
   "cell_type": "code",
   "execution_count": null,
   "metadata": {},
   "outputs": [],
   "source": [
    "flux_data = np.load('/home/druhe/release/lpf/runs/source_data.npy', mmap_mode='r')"
   ]
  },
  {
   "cell_type": "code",
   "execution_count": null,
   "metadata": {},
   "outputs": [],
   "source": [
    "df = pd.read_csv('/home/druhe/release/lpf/runs/parameters.csv')\n",
    "df['source_id'] = df['source_id'].astype(int)\n",
    "df['timestep'] = df['timestep'].astype(int)\n",
    "df['snr'] = df['dm'] / df['dm_std']"
   ]
  },
  {
   "cell_type": "code",
   "execution_count": null,
   "metadata": {},
   "outputs": [],
   "source": [
    "dm_threshold = df['dm'] > 50\n",
    "snr_threshold = df['snr'] > 5\n",
    "dm_std_threshold = df['dm_std'] < 17.5"
   ]
  },
  {
   "cell_type": "code",
   "execution_count": null,
   "metadata": {},
   "outputs": [],
   "source": [
    "interesting = df[snr_threshold & dm_std_threshold & dm_threshold]\n"
   ]
  },
  {
   "cell_type": "code",
   "execution_count": null,
   "metadata": {},
   "outputs": [],
   "source": [
    "interesting = interesting.sort_values('dm_std').drop_duplicates('source_id')"
   ]
  },
  {
   "cell_type": "code",
   "execution_count": null,
   "metadata": {
    "scrolled": false
   },
   "outputs": [],
   "source": [
    "for i, r in interesting.iterrows():\n",
    "    \n",
    "    sid = r['source_id'].astype(int)\n",
    "    t = r['timestep'].astype(int)\n",
    "    \n",
    "    data = flux_data[sid, :, (t - 64):t]\n",
    "\n",
    "\n",
    "    plt.imshow(data)\n",
    "    plt.title(\n",
    "               f\"\\nDM: {r['dm']:.2f}\" +fr\"$ \\pm$ {r['dm_std']:.2f}\"\n",
    "               f\"\\nFluence: {r['fluence']:.2f}\"\n",
    "               f\"\\nWidth: {r['width']:.2f}\"\n",
    "               f\"\\nIndex: {r['spectral_index']:.2f}\")\n",
    "    plt.axis('off')\n",
    "    plt.tight_layout()\n",
    "    plt.savefig(f'2019_id_{i}.png')\n",
    "    plt.show()\n",
    "    print(i)\n",
    "    print(r)\n",
    "        "
   ]
  },
  {
   "cell_type": "code",
   "execution_count": null,
   "metadata": {},
   "outputs": [],
   "source": []
  }
 ],
 "metadata": {
  "kernelspec": {
   "display_name": "Python 3",
   "language": "python",
   "name": "python3"
  },
  "language_info": {
   "codemirror_mode": {
    "name": "ipython",
    "version": 3
   },
   "file_extension": ".py",
   "mimetype": "text/x-python",
   "name": "python",
   "nbconvert_exporter": "python",
   "pygments_lexer": "ipython3",
   "version": "3.8.2"
  }
 },
 "nbformat": 4,
 "nbformat_minor": 4
}
